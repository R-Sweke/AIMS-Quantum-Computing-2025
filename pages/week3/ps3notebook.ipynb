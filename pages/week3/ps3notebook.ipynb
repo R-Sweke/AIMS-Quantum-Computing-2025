{
 "cells": [
  {
   "cell_type": "markdown",
   "id": "d67cb5ae",
   "metadata": {},
   "source": [
    "# 1. Deutsch's algorithm\n",
    "\n",
    "## 1a) Implement the algorithm by modifying the following cells\n",
    "\n",
    "Below you will find the definition of the quantum querz gate $U_f$ for a secret function $f:\\{0,1\\}^n\\rightarrow\\{0,1\\}$. Using Deutsch's algorithm, check whether secret_function is *constant* or *balanced* with query-complexity 1. "
   ]
  },
  {
   "cell_type": "code",
   "execution_count": 3,
   "id": "12a63cb6",
   "metadata": {},
   "outputs": [],
   "source": [
    "from qiskit import QuantumCircuit\n",
    "from qiskit_aer import AerSimulator\n",
    "from qiskit.visualization import plot_histogram"
   ]
  },
  {
   "cell_type": "code",
   "execution_count": 4,
   "id": "97830702",
   "metadata": {},
   "outputs": [],
   "source": [
    "def secret_function():\n",
    "    f = QuantumCircuit(2)\n",
    "    f.cx(0, 1)\n",
    "    return f"
   ]
  },
  {
   "cell_type": "markdown",
   "id": "dec819e5",
   "metadata": {},
   "source": [
    "We can check what the circuit looks like using the `draw` method."
   ]
  },
  {
   "cell_type": "code",
   "execution_count": null,
   "id": "f5f44c1f",
   "metadata": {},
   "outputs": [],
   "source": [
    "display(secret_function().draw(output='mpl'))"
   ]
  },
  {
   "cell_type": "markdown",
   "id": "5c588eba",
   "metadata": {},
   "source": [
    "Now, you will create the actual quantum circuit for Deutsch's algorithm, using the query gate defined above.\n",
    "\n",
    "Barriers are included to show the visual separation between the query gate implementation and the rest of the circuit."
   ]
  },
  {
   "cell_type": "code",
   "execution_count": 12,
   "id": "1ed0fbb1",
   "metadata": {},
   "outputs": [],
   "source": [
    "def your_circuit(function: QuantumCircuit):\n",
    "    # Compiles a circuit for use in Deutsch's algorithm.\n",
    "\n",
    "    # this initializes a circuit with n+1 qubits and n classical bits\n",
    "    n = function.num_qubits - 1\n",
    "    qc = QuantumCircuit(n + 1, n)\n",
    "\n",
    "    # remember that in Qiskit, all qubits start in the |0⟩ state\n",
    "\n",
    "    # anything that happens before the query gate goes here\n",
    "\n",
    "    qc.barrier()\n",
    "    qc.compose(function, inplace=True)\n",
    "    qc.barrier()\n",
    "\n",
    "    # anything that happens after the query gate goes here\n",
    "\n",
    "    # this examplary measurement measures the second qubit into the classical bit\n",
    "    qc.measure(1, 0)\n",
    "\n",
    "    return qc"
   ]
  },
  {
   "cell_type": "code",
   "execution_count": null,
   "id": "f977f7f9",
   "metadata": {},
   "outputs": [],
   "source": [
    "# check that your circuit is constructed correctly\n",
    "display(your_circuit(secret_function()).draw(output='mpl'))"
   ]
  },
  {
   "cell_type": "code",
   "execution_count": null,
   "id": "2adbc037",
   "metadata": {},
   "outputs": [],
   "source": [
    "def deutsch_algorithm(function: QuantumCircuit):\n",
    "    # Determine if a one-bit function is constant or balanced.\n",
    "\n",
    "    qc = your_circuit(function)\n",
    "\n",
    "    # the following two lines extract the measurement result\n",
    "    result = AerSimulator().run(qc, shots=1, memory=True).result()\n",
    "    measurements = result.get_memory()\n",
    "\n",
    "    if # write your condition here:\n",
    "        return \"constant\"\n",
    "    return \"balanced\""
   ]
  },
  {
   "cell_type": "code",
   "execution_count": null,
   "id": "5f00331e",
   "metadata": {},
   "outputs": [],
   "source": [
    "display(deutsch_algorithm(secret_function()))"
   ]
  },
  {
   "cell_type": "markdown",
   "id": "7fb20d49",
   "metadata": {},
   "source": [
    "The result from above is only based on a single measurement, lets look at the histogram for many runs to check whether the correct outcome has 100% probability as it should."
   ]
  },
  {
   "cell_type": "code",
   "execution_count": null,
   "id": "07c3ebfc",
   "metadata": {},
   "outputs": [],
   "source": [
    "qc = your_circuit(secret_function())\n",
    "result = AerSimulator().run(qc, shots=1000, memory=True).result()\n",
    "statistics = result.get_counts()\n",
    "display(plot_histogram(statistics))"
   ]
  },
  {
   "cell_type": "markdown",
   "id": "a331e5b8",
   "metadata": {},
   "source": [
    "## 1b) Gain intuition for the circuits and the different gates\n",
    "\n",
    "Now that we have a working implementation of Deutsch's algorithm, lets try to modify the circuit and see if it still gives the correct result. Answer the following questions as precisely as possible:\n",
    "\n",
    "- What happens if a Hadamard gate is added or removed? Why?\n",
    "- What happens if an X or Z gate is added or removed? Why?\n",
    "- What happens if we add a SWAP gate?\n",
    "- Does it matter if the previous changes happen before or after the query gate?\n",
    "- Assuming we can only measure the other other qubit, is there a way to change the circuit to still obtain the correct result?\n",
    "- If the circuit would be initialised in the Bell state $\\vert \\Phi^+ \\rangle = \\frac{1}{\\sqrt{2}}\\left(\\vert 0 \\rangle + \\vert 1 \\rangle \\right)$ , how would you have to modify it to still obtain the correct result?\n",
    "\n",
    "Bonus questions:\n",
    "- Can you modify the `secret_function` such that you can try all four possible functions?\n",
    "- Can you extend the circuit to the Deutsch-Josza algorithm for two-qubit functions?"
   ]
  },
  {
   "cell_type": "code",
   "execution_count": null,
   "id": "d5694137",
   "metadata": {},
   "outputs": [],
   "source": []
  },
  {
   "cell_type": "markdown",
   "id": "d8aec483",
   "metadata": {},
   "source": [
    "# 2. Grovers algorithm\n",
    "\n",
    "In this question, we want to verify that Grovers algorithm indeed works as we have predicted in the last two lectures. We will follow the lecture and check all the claims that have been made - and in the end will be able to verify the quantum advantage of this algorithm!"
   ]
  },
  {
   "cell_type": "code",
   "execution_count": 1,
   "id": "ae863609",
   "metadata": {},
   "outputs": [],
   "source": [
    "# --- Imports & helpers ---\n",
    "from qiskit import QuantumCircuit, transpile\n",
    "from qiskit.circuit.library import DiagonalGate\n",
    "from qiskit.quantum_info import Operator, Statevector\n",
    "from qiskit_aer import AerSimulator\n",
    "from qiskit.visualization import plot_histogram\n",
    "import numpy as np\n",
    "import matplotlib.pyplot as plt"
   ]
  },
  {
   "cell_type": "markdown",
   "id": "869a8987",
   "metadata": {},
   "source": [
    "## 2a) Problem setup, $Z_f$ and $Z_{OR}$\n",
    "\n",
    "We want to create a function that is 0 on all bitstrings except for our specific goal-string which we call `marked`. Below, you can choose the number of bits and the marked bitstring."
   ]
  },
  {
   "cell_type": "code",
   "execution_count": 6,
   "id": "9c6aceb1",
   "metadata": {},
   "outputs": [
    {
     "name": "stdout",
     "output_type": "stream",
     "text": [
      "N=8, marked=101, index=5\n"
     ]
    }
   ],
   "source": [
    "# Set problem size and the marked string (you may change this)\n",
    "n = 3\n",
    "marked = \"101\"  # <- choose your marked bitstring; e.g., \"101\"\n",
    "assert len(marked) == n, \"Length of marked string must be equal to n.\"\n",
    "\n",
    "def bitstr_to_index(s: str) -> int:\n",
    "    \"\"\"Maps a bitstring to its computational-basis index.\"\"\"\n",
    "    return int(s, 2)\n",
    "\n",
    "N = 2**n\n",
    "idx_star = bitstr_to_index(marked)\n",
    "print(f\"N={N}, marked={marked}, index={idx_star}\")"
   ]
  },
  {
   "cell_type": "markdown",
   "id": "e3535137",
   "metadata": {},
   "source": [
    "We now want to construct the phase query gate $Z_f$ for the function which is 0 on all bistrings except the marked bitstring. You can verify that the correct matrix representation for the $Z_f$-gate is diagonal with every diagonal entry equal to $1$, except for the entry corresponding to the marked element (given by index `idx_star` using lexicographical ordering).\n",
    "\n",
    "In particular, check that $Z_f \\vert x \\rangle = (-1)^{f(x)} \\vert x \\rangle$ for all $x$.\n"
   ]
  },
  {
   "cell_type": "code",
   "execution_count": 3,
   "id": "44bf083d",
   "metadata": {},
   "outputs": [],
   "source": [
    "# Z_f: +1 on all states except a single -1 at the marked index\n",
    "diag_Zf = np.ones(N, dtype=complex)\n",
    "diag_Zf[idx_star] = -1"
   ]
  },
  {
   "cell_type": "markdown",
   "id": "b1c80682",
   "metadata": {},
   "source": [
    "We can construct $Z_{OR}$ using similar reasoning: all diagonal elements should be $-1$, except the element corresponding to $\\vert 00...0\\rangle$, which is the first."
   ]
  },
  {
   "cell_type": "code",
   "execution_count": 5,
   "id": "59f91d46",
   "metadata": {},
   "outputs": [],
   "source": [
    "# Z_or: +1 on |000...0> and -1 on all other basis states\n",
    "diag_Zor = np.full(N, -1.0 + 0.0j)\n",
    "diag_Zor[0] = 1.0"
   ]
  },
  {
   "cell_type": "markdown",
   "id": "556477eb",
   "metadata": {},
   "source": [
    "From this, we can now define the gates as circuit elements in Qiskit. "
   ]
  },
  {
   "cell_type": "code",
   "execution_count": 85,
   "id": "45e12964",
   "metadata": {},
   "outputs": [],
   "source": [
    "def Zf_gate(n: int, marked_index: int) -> DiagonalGate:\n",
    "    diag = np.ones(2**n, dtype=complex)\n",
    "    diag[marked_index] = -1\n",
    "    return DiagonalGate(diag)\n",
    "\n",
    "def Zor_gate(n: int) -> DiagonalGate:\n",
    "    diag = np.full(2**n, -1.0 + 0.0j)\n",
    "    diag[0] = 1.0\n",
    "    return DiagonalGate(diag)"
   ]
  },
  {
   "cell_type": "markdown",
   "id": "ed1687c7",
   "metadata": {},
   "source": [
    "We now want to check that these gates are correct. Your intuition would be to simply apply the gates to a computational basis state $\\vert x \\rangle$ and check that the outcome is either $+\\vert x \\rangle$ or $-\\vert x \\rangle$ as appropriate. \n",
    "\n",
    "But: these two states differ only by a global phase, therefore measurements cannot tell you which state you have! With this in mind, can you design a way to verify that the gates work correctly, only from measurement outcomes on well-chosen input states."
   ]
  },
  {
   "cell_type": "code",
   "execution_count": 86,
   "id": "adc158a3",
   "metadata": {},
   "outputs": [],
   "source": [
    "# Verify the gates using QuantumCircuit here"
   ]
  },
  {
   "cell_type": "markdown",
   "id": "839c37b3",
   "metadata": {},
   "source": [
    "## 2b) Constructing the circuit\n",
    "\n",
    "Now we have all ingredients to construct the full circuit. Complete the function `grover_operator`. "
   ]
  },
  {
   "cell_type": "code",
   "execution_count": null,
   "id": "778c95c9",
   "metadata": {},
   "outputs": [],
   "source": [
    "def grover_operator(n: int, marked_index: int) -> QuantumCircuit:\n",
    "    qc = QuantumCircuit(n, name=\"G\")\n",
    "\n",
    "    # your code here\n",
    "\n",
    "    return qc\n",
    "\n",
    "\n",
    "def grover_circuit(n: int, marked_index: int, t: int) -> QuantumCircuit:\n",
    "    qc = QuantumCircuit(n, n, name=f\"Grover_t={t}\")\n",
    "    qc.h(range(n))\n",
    "    G_instr = grover_operator(n, marked_index).to_instruction()\n",
    "    for _ in range(t):\n",
    "        qc.append(G_instr, list(range(n)))\n",
    "    qc.measure(range(n), range(n))\n",
    "    return qc"
   ]
  },
  {
   "cell_type": "code",
   "execution_count": null,
   "id": "fe08591f",
   "metadata": {},
   "outputs": [],
   "source": [
    "grover_circuit(n, idx_star, 3).draw(\"mpl\")"
   ]
  },
  {
   "cell_type": "markdown",
   "id": "b7dfdfcd",
   "metadata": {},
   "source": [
    "## 2c) Circuit depth\n",
    "How often should we apply $G$ to best separate the marked bitstring from the others?\n",
    "\n",
    "Here we have to exploit the knowledge of how many marked bitstrings there are, in this case 1."
   ]
  },
  {
   "cell_type": "code",
   "execution_count": null,
   "id": "1342569b",
   "metadata": {},
   "outputs": [],
   "source": []
  },
  {
   "cell_type": "markdown",
   "id": "06a9514f",
   "metadata": {},
   "source": [
    "And now lets check if everything was correct: plot the histogram of measurement results for different numbers of implementations of the Grover operator and investigate whether our theoretically optimal $t$ is indeed the best."
   ]
  },
  {
   "cell_type": "code",
   "execution_count": null,
   "id": "22469587",
   "metadata": {},
   "outputs": [],
   "source": [
    "sim = AerSimulator()\n",
    "x = 10\n",
    "histograms = {}\n",
    "\n",
    "for t in range(0, x+1):\n",
    "    qc = grover_circuit(n, idx_star, t)\n",
    "    tqc = transpile(qc, backend=sim)\n",
    "    result = sim.run(tqc, shots=4000).result()\n",
    "    counts = result.get_counts()\n",
    "    histograms[t] = counts\n",
    "\n",
    "    display(plot_histogram(counts, title=f\"t = {t}\"))\n"
   ]
  },
  {
   "cell_type": "markdown",
   "id": "7ac7692a",
   "metadata": {},
   "source": [
    "## 2d) Bonus - Query complexity\n",
    "\n",
    "We have now seen that Grovers algorithm indeed works for $N=3$. In the lecture it was claimed that this algorithm scales $\\mathcal{O}(\\sqrt{N})$ - check this claim as far as your computing resources permit."
   ]
  },
  {
   "cell_type": "code",
   "execution_count": null,
   "id": "35b6c993",
   "metadata": {},
   "outputs": [],
   "source": []
  },
  {
   "cell_type": "markdown",
   "id": "97577be1",
   "metadata": {},
   "source": [
    "## 2e) Bonus - $Z_f$ and $Z_{OR}$\n",
    "\n",
    "We have seen $Z_f$ and $Z_{OR}$ in the lecture and now constructed them easily using its matrix representation. In reality though, this way of constructing a gate is not possible, we always need to construct more complicated cicuits from the elementary gates. Using Lesson 6 from [the book](https://arxiv.org/pdf/2507.11536), can you express $Z_f$ and $Z_{OR}$ using elementary gates?"
   ]
  },
  {
   "cell_type": "code",
   "execution_count": null,
   "id": "95a84a67",
   "metadata": {},
   "outputs": [],
   "source": []
  }
 ],
 "metadata": {
  "kernelspec": {
   "display_name": "qinfo",
   "language": "python",
   "name": "python3"
  },
  "language_info": {
   "codemirror_mode": {
    "name": "ipython",
    "version": 3
   },
   "file_extension": ".py",
   "mimetype": "text/x-python",
   "name": "python",
   "nbconvert_exporter": "python",
   "pygments_lexer": "ipython3",
   "version": "3.12.12"
  }
 },
 "nbformat": 4,
 "nbformat_minor": 5
}
